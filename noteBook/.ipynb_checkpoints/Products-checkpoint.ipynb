{
 "cells": [
  {
   "cell_type": "code",
   "execution_count": 30,
   "metadata": {},
   "outputs": [],
   "source": [
    "# general\n",
    "import pandas as pd\n",
    "import numpy as np\n",
    "from datetime import datetime"
   ]
  },
  {
   "cell_type": "code",
   "execution_count": 31,
   "metadata": {},
   "outputs": [],
   "source": [
    "# graphing\n",
    "from wordcloud import WordCloud\n",
    "import matplotlib.pyplot as plt\n",
    "import matplotlib.dates as mdates\n",
    "import nltk\n",
    "from nltk.corpus import stopwords\n",
    "from nltk.sentiment.vader import SentimentIntensityAnalyzer"
   ]
  },
  {
   "cell_type": "code",
   "execution_count": 2,
   "metadata": {},
   "outputs": [],
   "source": [
    "# importing data\n",
    "dfReviewNew = pd.read_csv('/Users/zejiachen/Desktop/fall 2021/Voice of Customer/sampleData/reviewSample.csv')\n",
    "mostPosReviews = pd.read_csv('/Users/zejiachen/Desktop/fall 2021/Voice of Customer/sampleData/mostPosReview.csv')\n",
    "mostNegReviews = pd.read_csv('/Users/zejiachen/Desktop/fall 2021/Voice of Customer/sampleData/mostNegReview.csv')"
   ]
  },
  {
   "cell_type": "code",
   "execution_count": 3,
   "metadata": {},
   "outputs": [],
   "source": [
    "# convert selected column to String\n",
    "dfReviewNew[['reviewerID', 'asin', 'reviewText','summary']] = dfReviewNew[['reviewerID', 'asin', 'reviewText','summary']].astype(str)\n",
    "mostNegReviews[['reviewerID', 'asin', 'reviewText','summary']] = mostNegReviews[['reviewerID', 'asin', 'reviewText','summary']].astype(str)\n",
    "mostPosReviews[['reviewerID', 'asin', 'reviewText','summary']] = mostPosReviews[['reviewerID', 'asin', 'reviewText','summary']].astype(str)\n",
    "\n"
   ]
  },
  {
   "cell_type": "code",
   "execution_count": 28,
   "metadata": {},
   "outputs": [],
   "source": [
    "## define a function for word-cloud\n",
    "# change the value to black\n",
    "def black_color_func(word, font_size, position,orientation,random_state=None, **kwargs):\n",
    "    return(\"hsl(0,100%, 1%)\")\n",
    "\n",
    "def word_cloud(data, col: str):\n",
    "    # term frenquency word cloud\n",
    "    long_string = ','.join(list(data[col].values))\n",
    "\n",
    "    wordcloud = WordCloud(font_path = '/Library/Fonts/Arial Unicode.ttf', background_color=\"white\", width=3000, height=2000, max_words=250, collocations=False).generate(long_string)\n",
    "    # set the word color to black\n",
    "    wordcloud.recolor(color_func = black_color_func)\n",
    "    # set the figsize\n",
    "    plt.figure(figsize=[15,10])\n",
    "    # plot the wordcloud\n",
    "    plt.imshow(wordcloud, interpolation=\"bilinear\")\n",
    "    # remove plot axes\n",
    "    plt.axis(\"off\")\n",
    "\n",
    "def word_cloudFreq(d: dict, maxword):\n",
    "    wordcloud = WordCloud(font_path = '/Library/Fonts/Arial Unicode.ttf', background_color=\"white\", width=3000, height=2000, max_words=maxword, collocations=False).generate_from_frequencies(d)\n",
    "    # set the word color to black\n",
    "    wordcloud.recolor(color_func = black_color_func)\n",
    "    # set the figsize\n",
    "    plt.figure(figsize=[15,10])\n",
    "    # plot the wordcloud\n",
    "    plt.imshow(wordcloud, interpolation=\"bilinear\")\n",
    "    # remove plot axes\n",
    "    plt.axis(\"off\")\n",
    "\n",
    "    "
   ]
  },
  {
   "cell_type": "code",
   "execution_count": 33,
   "metadata": {},
   "outputs": [],
   "source": [
    "english_stemmer = nltk.stem.SnowballStemmer('english')\n",
    "\n",
    "class StemmedCountVectorizer(CountVectorizer):\n",
    "    def build_analyzer(self):\n",
    "        analyzer = super(StemmedCountVectorizer, self).build_analyzer()\n",
    "        return lambda doc: ([english_stemmer.stem(w) for w in analyzer(doc)])"
   ]
  },
  {
   "cell_type": "markdown",
   "metadata": {},
   "source": [
    "---\n",
    "**Bad Words**"
   ]
  },
  {
   "cell_type": "code",
   "execution_count": 4,
   "metadata": {},
   "outputs": [],
   "source": [
    "badWords = []\n",
    "with open(\"negFeatureRefine.txt\", \"r\") as f:\n",
    "    for line in f:\n",
    "        badWords.append(line.strip())\n",
    "\n",
    "badWordsBigram = []\n",
    "with open(\"negFeatureBigramRefine.txt\", \"r\") as f:\n",
    "    for line in f:\n",
    "        badWordsBigram.append(line.strip())"
   ]
  },
  {
   "cell_type": "code",
   "execution_count": 5,
   "metadata": {},
   "outputs": [
    {
     "name": "stdout",
     "output_type": "stream",
     "text": [
      "['accident', 'annoy', 'awkward', 'bad', 'block', 'bore', 'bother', 'broke', 'broken', 'bummer', 'choke', 'complain', 'complaint', 'crap', 'crush', 'cut', 'danger', 'dead', 'defeat', 'defect', 'destroy', 'destruct', 'devil', 'die', 'difficult', 'dirt', 'disappear', 'disappoint', 'disgust', 'dismay', 'drag', 'drop', 'dud', 'dull', 'dumb', 'dump', 'embarrass', 'error', 'evil', 'fail', 'fake', 'fault', 'fight', 'forget', 'freak', 'gross', 'hard', 'hate', 'hell', 'hurt', 'lack', 'leak', 'lose', 'lost', 'low', 'lower', 'mad', 'meh', 'mess', 'miss', 'obsess', 'odd', 'overwhelm', 'pain', 'pay', 'piss', 'poor', 'problem', 'risk', 'ruin', 'sad', 'scare', 'scream', 'screw', 'serious', 'shake', 'shame', 'stink', 'stop', 'stuck', 'stupid', 'suck', 'suffer', 'trick', 'upset', 'useless', 'warn', 'weak', 'worn', 'worst', 'worthless', 'wrong']\n",
      "['bad design', 'bad qual', 'bad th', 'big disappoint', 'bored quick', 'box crush', 'broke day', 'broke month', 'choking hazard', 'crayons broken', 'defeats purpos', 'dirt devil', 'disappointed don', 'disappointed product', 'disappointed purchas', 'disappointed qu', 'disappointed toy', 'falling apart', 'game disappoint', 'gets stuck', 'getting stuck', 'hard floor', 'hard open', 'hard tim', 'hate toy', 'little disappoint', 'loud annoy', 'missing piec', 'negative review', 'pay ship', 'poor design', 'poor qual', 'quality bad', 'quality poor', 'really difficult', 'really disappoint', 'really hard', 'son disappoint', 'stopped work', 'time disappoint', 'waste money', 'worst gam']\n"
     ]
    }
   ],
   "source": [
    "print(badWords)\n",
    "print(badWordsBigram)"
   ]
  },
  {
   "cell_type": "code",
   "execution_count": 6,
   "metadata": {},
   "outputs": [
    {
     "data": {
      "text/plain": [
       "'total waste of money. the stickers do not stick down even once\\nit is just a tiny amount of stickers which do not work, and that is basically it. i thought the backgrounds would make this special but it just is tiny and does not work.\\nmuch better to simply buy packs of stickers and use paper\\nthe activity books in this series are better'"
      ]
     },
     "execution_count": 6,
     "metadata": {},
     "output_type": "execute_result"
    }
   ],
   "source": [
    "mostNegReviews.iloc[0][5]"
   ]
  },
  {
   "cell_type": "code",
   "execution_count": 7,
   "metadata": {},
   "outputs": [
    {
     "name": "stdout",
     "output_type": "stream",
     "text": [
      "False\n"
     ]
    }
   ],
   "source": [
    "s = mostNegReviews.iloc[1][5]\n",
    "print('choking hazard' in s)"
   ]
  },
  {
   "cell_type": "code",
   "execution_count": 8,
   "metadata": {},
   "outputs": [
    {
     "name": "stdout",
     "output_type": "stream",
     "text": [
      "True\n"
     ]
    }
   ],
   "source": [
    "print(any(word in s for word in badWords))"
   ]
  },
  {
   "cell_type": "markdown",
   "metadata": {},
   "source": [
    "**Good Words**"
   ]
  },
  {
   "cell_type": "code",
   "execution_count": 96,
   "metadata": {},
   "outputs": [],
   "source": [
    "goodWords = []\n",
    "with open(\"posFeatureRefine.txt\", \"r\") as f:\n",
    "    for line in f:\n",
    "        goodWords.append(line.strip())\n"
   ]
  },
  {
   "cell_type": "code",
   "execution_count": 98,
   "metadata": {},
   "outputs": [
    {
     "name": "stdout",
     "output_type": "stream",
     "text": [
      "['accept', 'accomplish', 'agreement', 'asset', 'astound', 'attract', 'award', 'benefit', 'best', 'better', 'bff', 'bless', 'bold', 'bonus', 'boost', 'brave', 'bright', 'brighten', 'brighter', 'brilliant', 'calm', 'care', 'champ', 'champion', 'charm', 'cheer', 'cherish', 'clean', 'clear', 'clever', 'comfort', 'compliment', 'cool', 'credit', 'curious', 'cute', 'cuter', 'cutest', 'dear', 'delight', 'diamond', 'eager', 'easier', 'easiest', 'enjoy', 'enlighten', 'entertain', 'enthusiasm', 'enthusiast', 'excel', 'expand', 'fab', 'fair', 'faith', 'fame', 'fan', 'fav', 'fave', 'favor', 'ff', 'fit', 'flawless', 'fond', 'free', 'freedom', 'fresh', 'friend', 'fun', 'funnest', 'funnier', 'funniest', 'gain', 'generous', 'gift', 'glad', 'glee', 'glorious', 'good', 'gorgeous', 'grace', 'grand', 'grant', 'great', 'greater', 'greatest', 'greet', 'grin', 'growth', 'ha', 'haha', 'hand', 'happier', 'heaven', 'help', 'helper', 'hero', 'highlight', 'holiday', 'honest', 'honor', 'hooray', 'hope', 'hug', 'huge', 'ideal', 'impress', 'intellect', 'interest', 'jewel', 'joy', 'keen', 'kind', 'kinder', 'kiss', 'laugh', 'laughter', 'like', 'lol', 'love', 'lover', 'luck', 'magnific', 'marvel', 'medal', 'merit', 'merrier', 'neat', 'nice', 'nicer', 'nicest', 'novel', 'perfect', 'perfectionist', 'play', 'pleasant', 'pleaser', 'popular', 'pray', 'precious', 'prettier', 'prettiest', 'pride', 'prize', 'profit', 'progress', 'protect', 'proud', 'recommend', 'relax', 'relief', 'respect', 'reward', 'rich', 'robust', 'safe', 'safer', 'save', 'smart', 'smarter', 'smartest', 'smile', 'smiley', 'special', 'strength', 'strengthen', 'strong', 'stronger', 'strongest', 'succeed', 'success', 'super', 'superb', 'superior', 'support', 'sure', 'survivor', 'sweet', 'talent', 'thank', 'thrill', 'treat', 'true', 'trust', 'truth', 'ty', 'vibrant', 'wealth', 'win', 'winner', 'wisdom', 'wise', 'wish', 'won', 'wow', 'xp', 'yay', 'yes']\n"
     ]
    }
   ],
   "source": [
    "print(goodWords)"
   ]
  },
  {
   "cell_type": "markdown",
   "metadata": {},
   "source": [
    "---\n",
    "### Subsetting review and product"
   ]
  },
  {
   "cell_type": "code",
   "execution_count": 9,
   "metadata": {},
   "outputs": [
    {
     "data": {
      "text/plain": [
       "(642, 11)"
      ]
     },
     "execution_count": 9,
     "metadata": {},
     "output_type": "execute_result"
    }
   ],
   "source": [
    "mostNegReviews.shape"
   ]
  },
  {
   "cell_type": "code",
   "execution_count": 10,
   "metadata": {},
   "outputs": [],
   "source": [
    "column = ['reviewTime','asin', 'reviewText', 'summary']"
   ]
  },
  {
   "cell_type": "code",
   "execution_count": 11,
   "metadata": {},
   "outputs": [
    {
     "data": {
      "text/html": [
       "<div>\n",
       "<style scoped>\n",
       "    .dataframe tbody tr th:only-of-type {\n",
       "        vertical-align: middle;\n",
       "    }\n",
       "\n",
       "    .dataframe tbody tr th {\n",
       "        vertical-align: top;\n",
       "    }\n",
       "\n",
       "    .dataframe thead th {\n",
       "        text-align: right;\n",
       "    }\n",
       "</style>\n",
       "<table border=\"1\" class=\"dataframe\">\n",
       "  <thead>\n",
       "    <tr style=\"text-align: right;\">\n",
       "      <th></th>\n",
       "      <th>reviewTime</th>\n",
       "      <th>asin</th>\n",
       "      <th>reviewText</th>\n",
       "      <th>summary</th>\n",
       "    </tr>\n",
       "  </thead>\n",
       "  <tbody>\n",
       "  </tbody>\n",
       "</table>\n",
       "</div>"
      ],
      "text/plain": [
       "Empty DataFrame\n",
       "Columns: [reviewTime, asin, reviewText, summary]\n",
       "Index: []"
      ]
     },
     "execution_count": 11,
     "metadata": {},
     "output_type": "execute_result"
    }
   ],
   "source": [
    "negReviewProduct = pd.DataFrame(columns = column)\n",
    "negReviewProduct.head()"
   ]
  },
  {
   "cell_type": "markdown",
   "metadata": {},
   "source": [
    "**ProductID associated with bad reviews**"
   ]
  },
  {
   "cell_type": "code",
   "execution_count": 12,
   "metadata": {},
   "outputs": [],
   "source": [
    "for row in range(len(mostNegReviews.index)):\n",
    "    if any(word in mostNegReviews.iloc[row][5] for word in badWords):\n",
    "        negReviewProduct = negReviewProduct.append({'reviewTime': mostNegReviews.iloc[row][2], \n",
    "                                                    'asin': mostNegReviews.iloc[row][4], \n",
    "                                                    'reviewText': mostNegReviews.iloc[row][5],\n",
    "                                                    'summary': mostNegReviews.iloc[row][6]}, ignore_index=True)"
   ]
  },
  {
   "cell_type": "code",
   "execution_count": 93,
   "metadata": {},
   "outputs": [
    {
     "data": {
      "text/html": [
       "<div>\n",
       "<style scoped>\n",
       "    .dataframe tbody tr th:only-of-type {\n",
       "        vertical-align: middle;\n",
       "    }\n",
       "\n",
       "    .dataframe tbody tr th {\n",
       "        vertical-align: top;\n",
       "    }\n",
       "\n",
       "    .dataframe thead th {\n",
       "        text-align: right;\n",
       "    }\n",
       "</style>\n",
       "<table border=\"1\" class=\"dataframe\">\n",
       "  <thead>\n",
       "    <tr style=\"text-align: right;\">\n",
       "      <th></th>\n",
       "      <th>reviewTime</th>\n",
       "      <th>asin</th>\n",
       "      <th>reviewText</th>\n",
       "      <th>summary</th>\n",
       "    </tr>\n",
       "  </thead>\n",
       "  <tbody>\n",
       "    <tr>\n",
       "      <th>0</th>\n",
       "      <td>2015-02-15</td>\n",
       "      <td>0486448789</td>\n",
       "      <td>they were ok but not really considered it a bo...</td>\n",
       "      <td>really small disappointed!</td>\n",
       "    </tr>\n",
       "    <tr>\n",
       "      <th>1</th>\n",
       "      <td>2015-12-26</td>\n",
       "      <td>0545561647</td>\n",
       "      <td>book is nice but pom poms never come out right...</td>\n",
       "      <td>book is nice but pom poms never come out right</td>\n",
       "    </tr>\n",
       "    <tr>\n",
       "      <th>2</th>\n",
       "      <td>2015-01-29</td>\n",
       "      <td>0545561647</td>\n",
       "      <td>book is ok. it was delivered in excellent cond...</td>\n",
       "      <td>book is definitely for 8 and up!</td>\n",
       "    </tr>\n",
       "    <tr>\n",
       "      <th>3</th>\n",
       "      <td>2014-01-12</td>\n",
       "      <td>0545561647</td>\n",
       "      <td>my daughter wanted this so badly. so she forke...</td>\n",
       "      <td>so excited to try, difficult to execute</td>\n",
       "    </tr>\n",
       "    <tr>\n",
       "      <th>4</th>\n",
       "      <td>2017-01-19</td>\n",
       "      <td>0641869665</td>\n",
       "      <td>my son loves the books, but was very disappoin...</td>\n",
       "      <td>poorly made and will require needle/thread rep...</td>\n",
       "    </tr>\n",
       "  </tbody>\n",
       "</table>\n",
       "</div>"
      ],
      "text/plain": [
       "   reviewTime        asin                                         reviewText  \\\n",
       "0  2015-02-15  0486448789  they were ok but not really considered it a bo...   \n",
       "1  2015-12-26  0545561647  book is nice but pom poms never come out right...   \n",
       "2  2015-01-29  0545561647  book is ok. it was delivered in excellent cond...   \n",
       "3  2014-01-12  0545561647  my daughter wanted this so badly. so she forke...   \n",
       "4  2017-01-19  0641869665  my son loves the books, but was very disappoin...   \n",
       "\n",
       "                                             summary  \n",
       "0                         really small disappointed!  \n",
       "1     book is nice but pom poms never come out right  \n",
       "2                   book is definitely for 8 and up!  \n",
       "3            so excited to try, difficult to execute  \n",
       "4  poorly made and will require needle/thread rep...  "
      ]
     },
     "execution_count": 93,
     "metadata": {},
     "output_type": "execute_result"
    }
   ],
   "source": [
    "negReviewProduct.head()"
   ]
  },
  {
   "cell_type": "code",
   "execution_count": 14,
   "metadata": {},
   "outputs": [],
   "source": [
    "negReviewProductGroupBy = pd.DataFrame(negReviewProduct.groupby(['asin'])[['reviewText']].count())"
   ]
  },
  {
   "cell_type": "code",
   "execution_count": 81,
   "metadata": {},
   "outputs": [],
   "source": [
    "negReviewProductGroupBy = negReviewProductGroupBy[negReviewProductGroupBy.reviewText > 10].sort_values(by=['reviewText'], ascending=False)\n"
   ]
  },
  {
   "cell_type": "code",
   "execution_count": 86,
   "metadata": {},
   "outputs": [],
   "source": [
    "negReviewProductGroupBy['Product Name'] = [\"Let's Go Fishin' Game\", \n",
    "                                           \"Foam Rockets and Toy Air Rocket Launcher\", \n",
    "                                           \"Mouse Trap\", \"Butterfly Growing Kit\", \n",
    "                                           \"Rechargeable Replacement Battery\", \"Bike\", \"Magic Cube\"]"
   ]
  },
  {
   "cell_type": "code",
   "execution_count": 87,
   "metadata": {},
   "outputs": [
    {
     "data": {
      "text/html": [
       "<div>\n",
       "<style scoped>\n",
       "    .dataframe tbody tr th:only-of-type {\n",
       "        vertical-align: middle;\n",
       "    }\n",
       "\n",
       "    .dataframe tbody tr th {\n",
       "        vertical-align: top;\n",
       "    }\n",
       "\n",
       "    .dataframe thead th {\n",
       "        text-align: right;\n",
       "    }\n",
       "</style>\n",
       "<table border=\"1\" class=\"dataframe\">\n",
       "  <thead>\n",
       "    <tr style=\"text-align: right;\">\n",
       "      <th></th>\n",
       "      <th>reviewText</th>\n",
       "      <th>Product Name</th>\n",
       "    </tr>\n",
       "    <tr>\n",
       "      <th>asin</th>\n",
       "      <th></th>\n",
       "      <th></th>\n",
       "    </tr>\n",
       "  </thead>\n",
       "  <tbody>\n",
       "    <tr>\n",
       "      <th>B00004YO0Y</th>\n",
       "      <td>26</td>\n",
       "      <td>Let's Go Fishin' Game</td>\n",
       "    </tr>\n",
       "    <tr>\n",
       "      <th>B00000K3BR</th>\n",
       "      <td>15</td>\n",
       "      <td>Foam Rockets and Toy Air Rocket Launcher</td>\n",
       "    </tr>\n",
       "    <tr>\n",
       "      <th>B00000DMFD</th>\n",
       "      <td>13</td>\n",
       "      <td>Mouse Trap</td>\n",
       "    </tr>\n",
       "    <tr>\n",
       "      <th>B00000ISC5</th>\n",
       "      <td>13</td>\n",
       "      <td>Butterfly Growing Kit</td>\n",
       "    </tr>\n",
       "    <tr>\n",
       "      <th>B00004TFT1</th>\n",
       "      <td>13</td>\n",
       "      <td>Rechargeable Replacement Battery</td>\n",
       "    </tr>\n",
       "    <tr>\n",
       "      <th>B000050B3H</th>\n",
       "      <td>13</td>\n",
       "      <td>Bike</td>\n",
       "    </tr>\n",
       "    <tr>\n",
       "      <th>B00004TFLB</th>\n",
       "      <td>11</td>\n",
       "      <td>Magic Cube</td>\n",
       "    </tr>\n",
       "  </tbody>\n",
       "</table>\n",
       "</div>"
      ],
      "text/plain": [
       "            reviewText                              Product Name\n",
       "asin                                                            \n",
       "B00004YO0Y          26                     Let's Go Fishin' Game\n",
       "B00000K3BR          15  Foam Rockets and Toy Air Rocket Launcher\n",
       "B00000DMFD          13                                Mouse Trap\n",
       "B00000ISC5          13                     Butterfly Growing Kit\n",
       "B00004TFT1          13          Rechargeable Replacement Battery\n",
       "B000050B3H          13                                      Bike\n",
       "B00004TFLB          11                                Magic Cube"
      ]
     },
     "execution_count": 87,
     "metadata": {},
     "output_type": "execute_result"
    }
   ],
   "source": [
    "negReviewProductGroupBy"
   ]
  },
  {
   "cell_type": "code",
   "execution_count": 80,
   "metadata": {},
   "outputs": [
    {
     "name": "stdout",
     "output_type": "stream",
     "text": [
      "\n",
      "\n",
      "this toy broke about an hour after it was opened.  it literally just stopped working.  we tried changing the batteries but that didn't fix it.  very disappointed.  my older son had a game like this when he was younger and it lasted for years.  i'm really beginning to believe toys aren't made as good as they used to be.  this toy turned out to be a piece of junk very quickly.\n",
      "\n",
      "\n",
      "only worked for like 5 minutes before it got jammed. there was no sign of anything getting stuck so i guess its just defective one.\n",
      "\n",
      "\n",
      "quality is terrible. one fish broke on first use. it's not made with magnets like i remember, now the teeth catch the hook things. the poles are cheap and the hooks are not on stings anymore just plastic rods. eh.\n",
      "\n",
      "\n",
      "first time playing with it and the turntable stopped working. very disappointing. i guess that's why it was so cheap.\n",
      "\n",
      "\n",
      "my grandson did like this game but it is very cheaply made and the fishing poles are horrible, i will be requesting a refund.\n"
     ]
    }
   ],
   "source": [
    "for i in range(5):\n",
    "    print('\\n')\n",
    "    print(negReviewProduct[negReviewProduct.asin == 'B00004YO0Y'].iloc[i][2])\n"
   ]
  },
  {
   "cell_type": "markdown",
   "metadata": {},
   "source": [
    "**Choking**"
   ]
  },
  {
   "cell_type": "code",
   "execution_count": 65,
   "metadata": {},
   "outputs": [],
   "source": [
    "chocking = pd.DataFrame(columns = column)"
   ]
  },
  {
   "cell_type": "code",
   "execution_count": 66,
   "metadata": {},
   "outputs": [],
   "source": [
    "for row in range(len(dfReviewNew.index)):\n",
    "    if 'choking hazard' in dfReviewNew.iloc[row][5]:\n",
    "        chocking = chocking.append({'reviewTime': dfReviewNew.iloc[row][2], \n",
    "                                                    'asin': dfReviewNew.iloc[row][4], \n",
    "                                                    'reviewText': dfReviewNew.iloc[row][5],\n",
    "                                                    'summary': dfReviewNew.iloc[row][6]}, ignore_index=True)"
   ]
  },
  {
   "cell_type": "code",
   "execution_count": 68,
   "metadata": {},
   "outputs": [
    {
     "data": {
      "text/html": [
       "<div>\n",
       "<style scoped>\n",
       "    .dataframe tbody tr th:only-of-type {\n",
       "        vertical-align: middle;\n",
       "    }\n",
       "\n",
       "    .dataframe tbody tr th {\n",
       "        vertical-align: top;\n",
       "    }\n",
       "\n",
       "    .dataframe thead th {\n",
       "        text-align: right;\n",
       "    }\n",
       "</style>\n",
       "<table border=\"1\" class=\"dataframe\">\n",
       "  <thead>\n",
       "    <tr style=\"text-align: right;\">\n",
       "      <th></th>\n",
       "      <th>reviewTime</th>\n",
       "      <th>asin</th>\n",
       "      <th>reviewText</th>\n",
       "      <th>summary</th>\n",
       "    </tr>\n",
       "  </thead>\n",
       "  <tbody>\n",
       "    <tr>\n",
       "      <th>0</th>\n",
       "      <td>2016-08-10</td>\n",
       "      <td>1932855785</td>\n",
       "      <td>since we homschool, i'm always looking for new...</td>\n",
       "      <td>great learning tool!</td>\n",
       "    </tr>\n",
       "    <tr>\n",
       "      <th>1</th>\n",
       "      <td>2012-03-01</td>\n",
       "      <td>1933054395</td>\n",
       "      <td>this game is like uno meets dominos.\\ni gave t...</td>\n",
       "      <td>loving family game night again!</td>\n",
       "    </tr>\n",
       "    <tr>\n",
       "      <th>2</th>\n",
       "      <td>2001-11-25</td>\n",
       "      <td>B00000DMBB</td>\n",
       "      <td>this is another childhood favorite that has no...</td>\n",
       "      <td>battle stations, everyone!</td>\n",
       "    </tr>\n",
       "    <tr>\n",
       "      <th>3</th>\n",
       "      <td>2013-07-22</td>\n",
       "      <td>B00000DMFN</td>\n",
       "      <td>we bought this for my 5-year-old son. he playe...</td>\n",
       "      <td>as fun as i remember</td>\n",
       "    </tr>\n",
       "    <tr>\n",
       "      <th>4</th>\n",
       "      <td>2016-10-04</td>\n",
       "      <td>B00000DMF5</td>\n",
       "      <td>candy land is the perfect classic game for the...</td>\n",
       "      <td>the perfect classic game</td>\n",
       "    </tr>\n",
       "  </tbody>\n",
       "</table>\n",
       "</div>"
      ],
      "text/plain": [
       "   reviewTime        asin                                         reviewText  \\\n",
       "0  2016-08-10  1932855785  since we homschool, i'm always looking for new...   \n",
       "1  2012-03-01  1933054395  this game is like uno meets dominos.\\ni gave t...   \n",
       "2  2001-11-25  B00000DMBB  this is another childhood favorite that has no...   \n",
       "3  2013-07-22  B00000DMFN  we bought this for my 5-year-old son. he playe...   \n",
       "4  2016-10-04  B00000DMF5  candy land is the perfect classic game for the...   \n",
       "\n",
       "                           summary  \n",
       "0             great learning tool!  \n",
       "1  loving family game night again!  \n",
       "2       battle stations, everyone!  \n",
       "3             as fun as i remember  \n",
       "4         the perfect classic game  "
      ]
     },
     "execution_count": 68,
     "metadata": {},
     "output_type": "execute_result"
    }
   ],
   "source": [
    "chocking.head()"
   ]
  },
  {
   "cell_type": "code",
   "execution_count": 69,
   "metadata": {},
   "outputs": [],
   "source": [
    "chockingGroupBy = pd.DataFrame(chocking.groupby(['asin'])[['reviewText']].count())"
   ]
  },
  {
   "cell_type": "code",
   "execution_count": 89,
   "metadata": {},
   "outputs": [],
   "source": [
    "chockingGroupBy = chockingGroupBy[chockingGroupBy.reviewText > 2].sort_values(by=['reviewText'], ascending=False)"
   ]
  },
  {
   "cell_type": "code",
   "execution_count": 90,
   "metadata": {},
   "outputs": [
    {
     "data": {
      "text/html": [
       "<div>\n",
       "<style scoped>\n",
       "    .dataframe tbody tr th:only-of-type {\n",
       "        vertical-align: middle;\n",
       "    }\n",
       "\n",
       "    .dataframe tbody tr th {\n",
       "        vertical-align: top;\n",
       "    }\n",
       "\n",
       "    .dataframe thead th {\n",
       "        text-align: right;\n",
       "    }\n",
       "</style>\n",
       "<table border=\"1\" class=\"dataframe\">\n",
       "  <thead>\n",
       "    <tr style=\"text-align: right;\">\n",
       "      <th></th>\n",
       "      <th>reviewText</th>\n",
       "    </tr>\n",
       "    <tr>\n",
       "      <th>asin</th>\n",
       "      <th></th>\n",
       "    </tr>\n",
       "  </thead>\n",
       "  <tbody>\n",
       "    <tr>\n",
       "      <th>B00000IWGQ</th>\n",
       "      <td>4</td>\n",
       "    </tr>\n",
       "    <tr>\n",
       "      <th>B00000DMD2</th>\n",
       "      <td>3</td>\n",
       "    </tr>\n",
       "    <tr>\n",
       "      <th>B00000J50C</th>\n",
       "      <td>3</td>\n",
       "    </tr>\n",
       "    <tr>\n",
       "      <th>B0000205X3</th>\n",
       "      <td>3</td>\n",
       "    </tr>\n",
       "    <tr>\n",
       "      <th>B00004WHO4</th>\n",
       "      <td>3</td>\n",
       "    </tr>\n",
       "    <tr>\n",
       "      <th>B00004YO0Y</th>\n",
       "      <td>3</td>\n",
       "    </tr>\n",
       "  </tbody>\n",
       "</table>\n",
       "</div>"
      ],
      "text/plain": [
       "            reviewText\n",
       "asin                  \n",
       "B00000IWGQ           4\n",
       "B00000DMD2           3\n",
       "B00000J50C           3\n",
       "B0000205X3           3\n",
       "B00004WHO4           3\n",
       "B00004YO0Y           3"
      ]
     },
     "execution_count": 90,
     "metadata": {},
     "output_type": "execute_result"
    }
   ],
   "source": [
    "chockingGroupBy"
   ]
  },
  {
   "cell_type": "code",
   "execution_count": 91,
   "metadata": {},
   "outputs": [],
   "source": [
    "chockingGroupBy['Product Name'] = [\"Hasbro Hi Ho! Cherry-O Board Game\", \n",
    "                                   \"Toy Cash Register\", \n",
    "                                   \"Uncle Goose Classic ABC Blocks with Wagon\", \n",
    "                                   \"Kerplunk Classic Kids Game with Marbles\", \n",
    "                                   \"Melissa & Doug Magnetic Wooden Dinosaurs\", \"Let's Go Fishin' Game by Pressman\"]"
   ]
  },
  {
   "cell_type": "code",
   "execution_count": 92,
   "metadata": {},
   "outputs": [
    {
     "data": {
      "text/html": [
       "<div>\n",
       "<style scoped>\n",
       "    .dataframe tbody tr th:only-of-type {\n",
       "        vertical-align: middle;\n",
       "    }\n",
       "\n",
       "    .dataframe tbody tr th {\n",
       "        vertical-align: top;\n",
       "    }\n",
       "\n",
       "    .dataframe thead th {\n",
       "        text-align: right;\n",
       "    }\n",
       "</style>\n",
       "<table border=\"1\" class=\"dataframe\">\n",
       "  <thead>\n",
       "    <tr style=\"text-align: right;\">\n",
       "      <th></th>\n",
       "      <th>reviewText</th>\n",
       "      <th>Product Name</th>\n",
       "    </tr>\n",
       "    <tr>\n",
       "      <th>asin</th>\n",
       "      <th></th>\n",
       "      <th></th>\n",
       "    </tr>\n",
       "  </thead>\n",
       "  <tbody>\n",
       "    <tr>\n",
       "      <th>B00000IWGQ</th>\n",
       "      <td>4</td>\n",
       "      <td>Hasbro Hi Ho! Cherry-O Board Game</td>\n",
       "    </tr>\n",
       "    <tr>\n",
       "      <th>B00000DMD2</th>\n",
       "      <td>3</td>\n",
       "      <td>Toy Cash Register</td>\n",
       "    </tr>\n",
       "    <tr>\n",
       "      <th>B00000J50C</th>\n",
       "      <td>3</td>\n",
       "      <td>Uncle Goose Classic ABC Blocks with Wagon</td>\n",
       "    </tr>\n",
       "    <tr>\n",
       "      <th>B0000205X3</th>\n",
       "      <td>3</td>\n",
       "      <td>Kerplunk Classic Kids Game with Marbles</td>\n",
       "    </tr>\n",
       "    <tr>\n",
       "      <th>B00004WHO4</th>\n",
       "      <td>3</td>\n",
       "      <td>Melissa &amp; Doug Magnetic Wooden Dinosaurs</td>\n",
       "    </tr>\n",
       "    <tr>\n",
       "      <th>B00004YO0Y</th>\n",
       "      <td>3</td>\n",
       "      <td>Let's Go Fishin' Game by Pressman</td>\n",
       "    </tr>\n",
       "  </tbody>\n",
       "</table>\n",
       "</div>"
      ],
      "text/plain": [
       "            reviewText                               Product Name\n",
       "asin                                                             \n",
       "B00000IWGQ           4          Hasbro Hi Ho! Cherry-O Board Game\n",
       "B00000DMD2           3                          Toy Cash Register\n",
       "B00000J50C           3  Uncle Goose Classic ABC Blocks with Wagon\n",
       "B0000205X3           3    Kerplunk Classic Kids Game with Marbles\n",
       "B00004WHO4           3   Melissa & Doug Magnetic Wooden Dinosaurs\n",
       "B00004YO0Y           3          Let's Go Fishin' Game by Pressman"
      ]
     },
     "execution_count": 92,
     "metadata": {},
     "output_type": "execute_result"
    }
   ],
   "source": [
    "chockingGroupBy"
   ]
  },
  {
   "cell_type": "markdown",
   "metadata": {},
   "source": [
    "---"
   ]
  },
  {
   "cell_type": "code",
   "execution_count": 94,
   "metadata": {},
   "outputs": [
    {
     "data": {
      "text/plain": [
       "(18843, 11)"
      ]
     },
     "execution_count": 94,
     "metadata": {},
     "output_type": "execute_result"
    }
   ],
   "source": [
    "mostPosReviews.shape"
   ]
  },
  {
   "cell_type": "code",
   "execution_count": 105,
   "metadata": {},
   "outputs": [],
   "source": [
    "posProductGroupBy = pd.DataFrame(mostPosReviews.groupby(['asin'])[['reviewText']].count())\n",
    "\n",
    "posProductGroupBy = posProductGroupBy.sort_values(by=['reviewText'], ascending=False)"
   ]
  },
  {
   "cell_type": "code",
   "execution_count": 109,
   "metadata": {},
   "outputs": [
    {
     "data": {
      "text/html": [
       "<div>\n",
       "<style scoped>\n",
       "    .dataframe tbody tr th:only-of-type {\n",
       "        vertical-align: middle;\n",
       "    }\n",
       "\n",
       "    .dataframe tbody tr th {\n",
       "        vertical-align: top;\n",
       "    }\n",
       "\n",
       "    .dataframe thead th {\n",
       "        text-align: right;\n",
       "    }\n",
       "</style>\n",
       "<table border=\"1\" class=\"dataframe\">\n",
       "  <thead>\n",
       "    <tr style=\"text-align: right;\">\n",
       "      <th></th>\n",
       "      <th>reviewText</th>\n",
       "    </tr>\n",
       "    <tr>\n",
       "      <th>asin</th>\n",
       "      <th></th>\n",
       "    </tr>\n",
       "  </thead>\n",
       "  <tbody>\n",
       "    <tr>\n",
       "      <th>0975277324</th>\n",
       "      <td>614</td>\n",
       "    </tr>\n",
       "    <tr>\n",
       "      <th>B00000K3BR</th>\n",
       "      <td>580</td>\n",
       "    </tr>\n",
       "    <tr>\n",
       "      <th>1933054395</th>\n",
       "      <td>370</td>\n",
       "    </tr>\n",
       "    <tr>\n",
       "      <th>B00004YO0Y</th>\n",
       "      <td>339</td>\n",
       "    </tr>\n",
       "    <tr>\n",
       "      <th>0976990709</th>\n",
       "      <td>338</td>\n",
       "    </tr>\n",
       "    <tr>\n",
       "      <th>B00003GPDU</th>\n",
       "      <td>318</td>\n",
       "    </tr>\n",
       "    <tr>\n",
       "      <th>B00000ISC5</th>\n",
       "      <td>292</td>\n",
       "    </tr>\n",
       "    <tr>\n",
       "      <th>B00000IZOU</th>\n",
       "      <td>283</td>\n",
       "    </tr>\n",
       "  </tbody>\n",
       "</table>\n",
       "</div>"
      ],
      "text/plain": [
       "            reviewText\n",
       "asin                  \n",
       "0975277324         614\n",
       "B00000K3BR         580\n",
       "1933054395         370\n",
       "B00004YO0Y         339\n",
       "0976990709         338\n",
       "B00003GPDU         318\n",
       "B00000ISC5         292\n",
       "B00000IZOU         283"
      ]
     },
     "execution_count": 109,
     "metadata": {},
     "output_type": "execute_result"
    }
   ],
   "source": [
    "posProductGroupBy_top = posProductGroupBy[:8]\n",
    "posProductGroupBy_top"
   ]
  },
  {
   "cell_type": "code",
   "execution_count": 112,
   "metadata": {},
   "outputs": [
    {
     "name": "stderr",
     "output_type": "stream",
     "text": [
      "<ipython-input-112-95f2a7b956c2>:1: SettingWithCopyWarning: \n",
      "A value is trying to be set on a copy of a slice from a DataFrame.\n",
      "Try using .loc[row_indexer,col_indexer] = value instead\n",
      "\n",
      "See the caveats in the documentation: https://pandas.pydata.org/pandas-docs/stable/user_guide/indexing.html#returning-a-view-versus-a-copy\n",
      "  posProductGroupBy_top['Product Name'] = [\"Ticket to Ride Board Game\",\n"
     ]
    }
   ],
   "source": [
    "posProductGroupBy_top['Product Name'] = [\"Ticket to Ride Board Game\", \n",
    "                                       \"Stomp Rocket The Original Jr. Glow Rocket Launcher\",\"Qwirkle Board Game\", \n",
    "                                       \"Let's Go Fishin' Game by Pressman\", \n",
    "                                       \"The Elf on the Shelf: A Christmas Tradition\", \n",
    "                                         \"Schylling Children's Ceramic Tea Set\", \n",
    "                                         \"Insect Lore - Butterfly Growing Kit\", \n",
    "                                        \"Fisher-Price Brilliant Basics Corn Popper\"]"
   ]
  },
  {
   "cell_type": "code",
   "execution_count": 113,
   "metadata": {},
   "outputs": [
    {
     "data": {
      "text/html": [
       "<div>\n",
       "<style scoped>\n",
       "    .dataframe tbody tr th:only-of-type {\n",
       "        vertical-align: middle;\n",
       "    }\n",
       "\n",
       "    .dataframe tbody tr th {\n",
       "        vertical-align: top;\n",
       "    }\n",
       "\n",
       "    .dataframe thead th {\n",
       "        text-align: right;\n",
       "    }\n",
       "</style>\n",
       "<table border=\"1\" class=\"dataframe\">\n",
       "  <thead>\n",
       "    <tr style=\"text-align: right;\">\n",
       "      <th></th>\n",
       "      <th>reviewText</th>\n",
       "      <th>Product Name</th>\n",
       "    </tr>\n",
       "    <tr>\n",
       "      <th>asin</th>\n",
       "      <th></th>\n",
       "      <th></th>\n",
       "    </tr>\n",
       "  </thead>\n",
       "  <tbody>\n",
       "    <tr>\n",
       "      <th>0975277324</th>\n",
       "      <td>614</td>\n",
       "      <td>Ticket to Ride Board Game</td>\n",
       "    </tr>\n",
       "    <tr>\n",
       "      <th>B00000K3BR</th>\n",
       "      <td>580</td>\n",
       "      <td>Stomp Rocket The Original Jr. Glow Rocket Laun...</td>\n",
       "    </tr>\n",
       "    <tr>\n",
       "      <th>1933054395</th>\n",
       "      <td>370</td>\n",
       "      <td>Qwirkle Board Game</td>\n",
       "    </tr>\n",
       "    <tr>\n",
       "      <th>B00004YO0Y</th>\n",
       "      <td>339</td>\n",
       "      <td>Let's Go Fishin' Game by Pressman</td>\n",
       "    </tr>\n",
       "    <tr>\n",
       "      <th>0976990709</th>\n",
       "      <td>338</td>\n",
       "      <td>The Elf on the Shelf: A Christmas Tradition</td>\n",
       "    </tr>\n",
       "    <tr>\n",
       "      <th>B00003GPDU</th>\n",
       "      <td>318</td>\n",
       "      <td>Schylling Children's Ceramic Tea Set</td>\n",
       "    </tr>\n",
       "    <tr>\n",
       "      <th>B00000ISC5</th>\n",
       "      <td>292</td>\n",
       "      <td>Insect Lore - Butterfly Growing Kit</td>\n",
       "    </tr>\n",
       "    <tr>\n",
       "      <th>B00000IZOU</th>\n",
       "      <td>283</td>\n",
       "      <td>Fisher-Price Brilliant Basics Corn Popper</td>\n",
       "    </tr>\n",
       "  </tbody>\n",
       "</table>\n",
       "</div>"
      ],
      "text/plain": [
       "            reviewText                                       Product Name\n",
       "asin                                                                     \n",
       "0975277324         614                          Ticket to Ride Board Game\n",
       "B00000K3BR         580  Stomp Rocket The Original Jr. Glow Rocket Laun...\n",
       "1933054395         370                                 Qwirkle Board Game\n",
       "B00004YO0Y         339                  Let's Go Fishin' Game by Pressman\n",
       "0976990709         338        The Elf on the Shelf: A Christmas Tradition\n",
       "B00003GPDU         318               Schylling Children's Ceramic Tea Set\n",
       "B00000ISC5         292                Insect Lore - Butterfly Growing Kit\n",
       "B00000IZOU         283          Fisher-Price Brilliant Basics Corn Popper"
      ]
     },
     "execution_count": 113,
     "metadata": {},
     "output_type": "execute_result"
    }
   ],
   "source": [
    "posProductGroupBy_top"
   ]
  }
 ],
 "metadata": {
  "kernelspec": {
   "display_name": "Python 3",
   "language": "python",
   "name": "python3"
  },
  "language_info": {
   "codemirror_mode": {
    "name": "ipython",
    "version": 3
   },
   "file_extension": ".py",
   "mimetype": "text/x-python",
   "name": "python",
   "nbconvert_exporter": "python",
   "pygments_lexer": "ipython3",
   "version": "3.8.5"
  }
 },
 "nbformat": 4,
 "nbformat_minor": 4
}
